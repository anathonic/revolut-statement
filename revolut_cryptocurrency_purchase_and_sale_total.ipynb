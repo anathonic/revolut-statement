{
 "cells": [
  {
   "cell_type": "code",
   "execution_count": null,
   "id": "4360502b",
   "metadata": {},
   "outputs": [],
   "source": [
    "import pandas as pd"
   ]
  },
  {
   "cell_type": "code",
   "execution_count": null,
   "id": "dd854dee",
   "metadata": {},
   "outputs": [],
   "source": [
    "currencies = {\n",
    "    \"PLN\": \"PLN\",\n",
    "    \"EUR\": \"€\",\n",
    "    \"GBP\": \"£\",\n",
    "    \"USD\": \"$\"\n",
    "}"
   ]
  },
  {
   "cell_type": "code",
   "execution_count": null,
   "id": "4786babd",
   "metadata": {},
   "outputs": [],
   "source": [
    "choosen_currency = \"EUR\""
   ]
  },
  {
   "cell_type": "code",
   "execution_count": null,
   "id": "768cf8aa",
   "metadata": {},
   "outputs": [],
   "source": [
    "currency = currencies[choosen_currency]"
   ]
  },
  {
   "cell_type": "code",
   "execution_count": null,
   "id": "2fbc8d76",
   "metadata": {},
   "outputs": [],
   "source": [
    "file_csv = \"E979494D-7905-49C7-970D-5B069B09CDEA.csv\""
   ]
  },
  {
   "cell_type": "code",
   "execution_count": null,
   "id": "8929d891",
   "metadata": {},
   "outputs": [],
   "source": [
    "df = pd.read_csv(file_csv)"
   ]
  },
  {
   "cell_type": "code",
   "execution_count": null,
   "id": "a3705198",
   "metadata": {},
   "outputs": [],
   "source": [
    "print(df.head())"
   ]
  },
  {
   "cell_type": "code",
   "execution_count": null,
   "id": "712ae678",
   "metadata": {},
   "outputs": [],
   "source": [
    "if choosen_currency != 'USD':\n",
    "    df = df[df['Price'].str.contains(currency) | df['Value'].str.contains('currency') | df['Fees'].str.contains(currency)]\n",
    "else:\n",
    "    df = df[df['Price'].str.contains(r'\\$', regex=True) | \n",
    "        df['Value'].str.contains(r'\\$', regex=True) | \n",
    "        df['Fees'].str.contains(r'\\$', regex=True)]"
   ]
  },
  {
   "cell_type": "code",
   "execution_count": null,
   "id": "20466a48",
   "metadata": {},
   "outputs": [],
   "source": [
    "df.head()"
   ]
  },
  {
   "cell_type": "code",
   "execution_count": null,
   "id": "5db7d522",
   "metadata": {},
   "outputs": [],
   "source": [
    "\n",
    "df['Price'] = df['Price'].str.replace(currency, '', regex=True).str.replace(',', '.', regex=False).str.replace(' ', '', regex=False).str.replace(r'\\s+', '', regex=True).astype(float)\n",
    "\n",
    "df['Value'] = df['Value'].str.replace(currency, '', regex=True).str.replace(',', '.', regex=False).str.replace(' ', '', regex=False).str.replace(r'\\s+', '', regex=True).astype(float)\n",
    "\n",
    "df['Fees'] = df['Fees'].str.replace(currency, '', regex=True).str.replace(',', '.', regex=False).str.replace(' ', '', regex=False).str.replace(r'\\s+', '', regex=True).astype(float)\n"
   ]
  },
  {
   "cell_type": "code",
   "execution_count": null,
   "id": "9abb0488",
   "metadata": {},
   "outputs": [],
   "source": [
    "df.head()"
   ]
  },
  {
   "cell_type": "code",
   "execution_count": null,
   "id": "eb224596",
   "metadata": {},
   "outputs": [],
   "source": [
    "month_translation = {\n",
    "    \"sty\": \"Jan\", \"lut\": \"Feb\", \"mar\": \"Mar\", \"kwi\": \"Apr\", \"maj\": \"May\", \"cze\": \"Jun\",\n",
    "    \"lip\": \"Jul\", \"sie\": \"Aug\", \"wrz\": \"Sep\", \"paź\": \"Oct\", \"lis\": \"Nov\", \"gru\": \"Dec\"\n",
    "}"
   ]
  },
  {
   "cell_type": "code",
   "execution_count": null,
   "id": "b8025e0f",
   "metadata": {},
   "outputs": [],
   "source": [
    "def translate_month(date_str):\n",
    "    for pl_month, en_month in month_translation.items():\n",
    "        if pl_month in date_str:\n",
    "            return date_str.replace(pl_month, en_month)\n",
    "    return date_str"
   ]
  },
  {
   "cell_type": "code",
   "execution_count": null,
   "id": "474df20d",
   "metadata": {},
   "outputs": [],
   "source": [
    "df['Date'] = df['Date'].apply(translate_month)\n",
    "\n",
    "df['Date'] = pd.to_datetime(df['Date'], format='%d %b %Y, %H:%M:%S')\n",
    "\n",
    "df['Date'] = df['Date'].dt.strftime('%Y-%m-%d')"
   ]
  },
  {
   "cell_type": "code",
   "execution_count": null,
   "id": "dd1362ee",
   "metadata": {},
   "outputs": [],
   "source": [
    "from datetime import datetime, timedelta\n",
    "import requests\n",
    "\n",
    "def get_rate_for_date(date_str, code, max_days_forward=5, rate_type=\"ask\"):\n",
    "    \"\"\"\n",
    "    Pobiera kurs z NBP dla danej daty.\n",
    "    Jeśli brak danych, próbuje kolejnych dni (do max_days_forward).\n",
    "    \"\"\"\n",
    "    base_date = datetime.strptime(date_str, \"%Y-%m-%d\")\n",
    "    \n",
    "    for i in range(max_days_forward + 1):\n",
    "        check_date = (base_date + timedelta(days=i)).strftime(\"%Y-%m-%d\")\n",
    "        url = f\"https://api.nbp.pl/api/exchangerates/tables/C/{check_date}\"\n",
    "        \n",
    "        try:\n",
    "            response = requests.get(url)\n",
    "            if response.status_code == 200:\n",
    "                data = response.json()\n",
    "                for rate in data[0]['rates']:\n",
    "                    if rate['code'] == code:\n",
    "                        return rate[rate_type]\n",
    "        except:\n",
    "            continue\n",
    "\n",
    "    print(f\"Brak kursu ask dla {date_str} w ciągu {max_days_forward} dni.\")\n",
    "    return None"
   ]
  },
  {
   "cell_type": "code",
   "execution_count": null,
   "id": "eb89ead4",
   "metadata": {},
   "outputs": [],
   "source": [
    "if choosen_currency == \"PLN\":\n",
    "    purchase_total = df[df['Type'] == 'Kupno']['Value'].sum()\n",
    "    purchase_fees_total = df[df['Type'] == 'Kupno']['Fees'].sum()\n",
    "    sale_total = df[df['Type'] == 'Sprzedaż']['Value'].sum()\n",
    "    sale_fees_total = df[df['Type'] == 'Sprzedaż']['Fees'].sum()\n",
    "    \n",
    "    print(f\"\\nSuma wartości kupna w PLN: {purchase_total:.2f}\")\n",
    "    print(f\"Suma prowizji kupna w PLN: {purchase_fees_total:.2f}\")\n",
    "        \n",
    "    print(f\"\\nSuma wartości sprzedaży w PLN: {sale_total:.2f}\")\n",
    "    print(f\"Suma prowizji sprzedaży w PLN: {sale_fees_total:.2f}\")\n",
    "\n",
    "else:\n",
    "    purchase_info = df[df['Type'] == 'Kupno'][['Value', 'Fees', 'Date']]\n",
    "    sale_info = df[df['Type'] == 'Sprzedaż'][['Value', 'Fees', 'Date']]\n",
    "    unique_dates = purchase_info['Date'].unique()\n",
    "    ask_rates = {}\n",
    "\n",
    "    for date in unique_dates:\n",
    "        ask_rate = get_rate_for_date(date, choosen_currency)\n",
    "        ask_rates[date] = ask_rate\n",
    "\n",
    "    purchase_info['AskRate'] = purchase_info['Date'].map(ask_rates)\n",
    "\n",
    "    purchase_info['ValuePLN'] = purchase_info['Value'] * purchase_info['AskRate']\n",
    "    purchase_info['FeesPLN'] = purchase_info['Fees'] * purchase_info['AskRate']\n",
    "\n",
    "    total_value_pln = purchase_info['ValuePLN'].sum()\n",
    "    total_fees_pln = purchase_info['FeesPLN'].sum()\n",
    "\n",
    "    print(purchase_info[['Date', 'Value', 'AskRate', 'ValuePLN', 'FeesPLN']])\n",
    "    print(f\"\\nSuma wartości w PLN: {total_value_pln:.2f}\")\n",
    "    print(f\"Suma prowizji w PLN: {total_fees_pln:.2f}\")"
   ]
  }
 ],
 "metadata": {
  "kernelspec": {
   "display_name": "Python 3 (ipykernel)",
   "language": "python",
   "name": "python3"
  },
  "language_info": {
   "codemirror_mode": {
    "name": "ipython",
    "version": 3
   },
   "file_extension": ".py",
   "mimetype": "text/x-python",
   "name": "python",
   "nbconvert_exporter": "python",
   "pygments_lexer": "ipython3",
   "version": "3.10.9"
  }
 },
 "nbformat": 4,
 "nbformat_minor": 5
}
